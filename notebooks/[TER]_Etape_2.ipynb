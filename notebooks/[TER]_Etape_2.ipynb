{
  "nbformat": 4,
  "nbformat_minor": 0,
  "metadata": {
    "colab": {
      "name": "[TER]_Etape_2.ipynb",
      "provenance": [],
      "collapsed_sections": []
    },
    "kernelspec": {
      "name": "python3",
      "display_name": "Python 3"
    },
    "language_info": {
      "name": "python"
    }
  },
  "cells": [
    {
      "cell_type": "markdown",
      "source": [
        "# [TER] ÉTAPE 2: \n",
        "LAMOUREUX Léo 21602944 --\n",
        "PIRES PINTO Lola 21706287\n",
        "\n",
        "\n",
        "*implémentation des algorithmes avec les paramètres par défault*\n",
        "\n",
        "\n",
        "\n",
        "\n",
        "\n",
        "---\n",
        "\n",
        "\n",
        "\n"
      ],
      "metadata": {
        "id": "AzzDaq_BgLQF"
      }
    },
    {
      "cell_type": "markdown",
      "source": [
        "\n",
        "# ** 1 - CLASSIFICATION, DATASET : BREAST CANCER**\n",
        "\n",
        "---\n",
        "\n"
      ],
      "metadata": {
        "id": "wEoGXaLpdr4e"
      }
    },
    {
      "cell_type": "markdown",
      "source": [
        "*CHARGEMENT DES DONNÉES PUIS CONVERSION EN PD.DATAFRAME*"
      ],
      "metadata": {
        "id": "JA4XFmKihJAa"
      }
    },
    {
      "cell_type": "code",
      "source": [
        "from sklearn import datasets\n",
        "import pandas as pd\n",
        "dataset = datasets.load_breast_cancer()\n",
        "df = pd.DataFrame(data = dataset.data, columns = dataset.feature_names)"
      ],
      "metadata": {
        "id": "wxuvEvf7cTtl"
      },
      "execution_count": 18,
      "outputs": []
    },
    {
      "cell_type": "code",
      "source": [
        "y = dataset.target\n",
        "X = df"
      ],
      "metadata": {
        "id": "t8Sahg6BdDc1"
      },
      "execution_count": 19,
      "outputs": []
    },
    {
      "cell_type": "code",
      "source": [
        "pd.DataFrame(y).value_counts()"
      ],
      "metadata": {
        "colab": {
          "base_uri": "https://localhost:8080/"
        },
        "id": "DcZwSe4sh2gX",
        "outputId": "572c7496-5e1e-4422-ea5f-ae5932d6fa6b"
      },
      "execution_count": 20,
      "outputs": [
        {
          "output_type": "execute_result",
          "data": {
            "text/plain": [
              "1    357\n",
              "0    212\n",
              "dtype: int64"
            ]
          },
          "metadata": {},
          "execution_count": 20
        }
      ]
    },
    {
      "cell_type": "markdown",
      "source": [
        "On voit que la classe cible est déséquilibrée.\n",
        "62,74% de données de classe 1 et 37,26% données de classe 0.\n",
        "Il faut faire attention a ne pas avoir un split déséquilibré. Pour éviter cela on peut appliquer le paramètre stratify à la cible (y) dans la fonction de split, pour avoir un nombre équilibré de données de chaque classe."
      ],
      "metadata": {
        "id": "zChNuK2ziVqQ"
      }
    },
    {
      "cell_type": "code",
      "source": [
        "from sklearn.model_selection import train_test_split\n",
        "X_train,X_test,y_train,y_test = train_test_split(X,y, stratify = y, test_size = 0.2)"
      ],
      "metadata": {
        "id": "LJ2Vl7L3iq9L"
      },
      "execution_count": 21,
      "outputs": []
    },
    {
      "cell_type": "code",
      "source": [
        "from sklearn.ensemble import RandomForestClassifier\n",
        "algo = RandomForestClassifier()\n",
        "algo.fit(X_train,y_train)\n",
        "print(f\"première évaluation du modèle, précision de {algo.score(X_test,y_test)*100:.2f}%\")"
      ],
      "metadata": {
        "id": "GsdPfYvqjKj4",
        "colab": {
          "base_uri": "https://localhost:8080/"
        },
        "outputId": "e22d53c7-66b0-4d34-c7f9-68f8a0f53d6b"
      },
      "execution_count": 22,
      "outputs": [
        {
          "output_type": "stream",
          "name": "stdout",
          "text": [
            "première évaluation du modèle, précision de 97.37%\n"
          ]
        }
      ]
    },
    {
      "cell_type": "code",
      "source": [
        "from sklearn.model_selection import cross_val_score\n",
        "from sklearn.model_selection import StratifiedKFold\n",
        "import matplotlib.pyplot as plt\n",
        "\n",
        "nb_cv = StratifiedKFold(5)\n",
        "\n",
        "scores = cross_val_score(RandomForestClassifier(),X_train,y_train, cv = nb_cv)\n",
        "print(f\"précision moyenne de {scores.mean()*100:.2f}% avec marge d'erreur de {scores.std()*100:.2f}%\\n\")\n",
        "plt.suptitle(\"précisions avec différentes découpes de train et test\")\n",
        "plt.xlabel(\"numéro de split\")\n",
        "plt.ylabel(\"Précision\")\n",
        "plt.bar([0,1,2,3,4],scores)"
      ],
      "metadata": {
        "colab": {
          "base_uri": "https://localhost:8080/",
          "height": 357
        },
        "id": "PuMcpO-elu5U",
        "outputId": "7b3d1ca5-0a6b-41da-be14-6c31762023eb"
      },
      "execution_count": 23,
      "outputs": [
        {
          "output_type": "stream",
          "name": "stdout",
          "text": [
            "précision moyenne de 94.95% avec marge d'erreur de 1.92%\n",
            "\n"
          ]
        },
        {
          "output_type": "execute_result",
          "data": {
            "text/plain": [
              "<BarContainer object of 5 artists>"
            ]
          },
          "metadata": {},
          "execution_count": 23
        },
        {
          "output_type": "display_data",
          "data": {
            "text/plain": [
              "<Figure size 432x288 with 1 Axes>"
            ],
            "image/png": "[encoded data removed]"
          },
          "metadata": {
            "needs_background": "light"
          }
        }
      ]
    },
    {
      "cell_type": "markdown",
      "source": [
        "On voit ici que peu importe les différentes partition, le score du modèle ne change pas de manière significative.\n",
        "Pour la suite on fixera la partition à l'une des 5, pour ne pas qu'elle change a chaque fois."
      ],
      "metadata": {
        "id": "6WChoiwJnCn0"
      }
    },
    {
      "cell_type": "code",
      "source": [
        "X_train,X_test,y_train,y_test = train_test_split(X, y, random_state = 1, stratify = y, test_size = 0.2)\n",
        "algo.fit(X_train, y_train)"
      ],
      "metadata": {
        "colab": {
          "base_uri": "https://localhost:8080/"
        },
        "id": "iq9cOKwDnB4v",
        "outputId": "7fed041c-22b3-4968-d6f1-ceee6ebd97d0"
      },
      "execution_count": 24,
      "outputs": [
        {
          "output_type": "execute_result",
          "data": {
            "text/plain": [
              "RandomForestClassifier()"
            ]
          },
          "metadata": {},
          "execution_count": 24
        }
      ]
    },
    {
      "cell_type": "code",
      "source": [
        "from sklearn.metrics import confusion_matrix\n",
        "import seaborn as sbn\n",
        "import numpy as np\n",
        "cf_matrix = confusion_matrix(y_test, algo.predict(X_test))\n",
        "print(cf_matrix)\n",
        "ax = sbn.heatmap(cf_matrix/np.sum(cf_matrix), fmt='.2%', annot=True, cmap='Blues')\n",
        "ax.set_title('Matrice de confusion\\n\\n');\n",
        "ax.set_ylabel('\\nPrediction')\n",
        "ax.set_xlabel('Valeur actuelle');\n",
        "ax.xaxis.set_ticklabels(['Malin','Begnin'])\n",
        "ax.yaxis.set_ticklabels(['Malin','Begnin'])\n",
        "plt.show()"
      ],
      "metadata": {
        "colab": {
          "base_uri": "https://localhost:8080/",
          "height": 356
        },
        "id": "q_rgDN7KbmIw",
        "outputId": "8f014c40-1a1f-4eda-8589-3e9a4ed68239"
      },
      "execution_count": 25,
      "outputs": [
        {
          "output_type": "stream",
          "name": "stdout",
          "text": [
            "[[40  2]\n",
            " [ 2 70]]\n"
          ]
        },
        {
          "output_type": "display_data",
          "data": {
            "text/plain": [
              "<Figure size 432x288 with 2 Axes>"
            ],
            "image/png": "[encoded data removed]"
          },
          "metadata": {
            "needs_background": "light"
          }
        }
      ]
    },
    {
      "cell_type": "markdown",
      "source": [
        "On observe 0.88% de faux positif et 2.63% de faux negatif,\n",
        "sachant que positif = a une tumeur maligne, et negatif = une tumeur bégnine."
      ],
      "metadata": {
        "id": "_A26OrJlp2DR"
      }
    },
    {
      "cell_type": "code",
      "source": [
        "from sklearn.metrics import recall_score, accuracy_score\n",
        "print(f\"recall_score :    {recall_score(y_test,algo.predict(X_test))*100:.2f}% de positifs bien prédits par le modèle\")\n",
        "print(f\"accuracy_score :  {accuracy_score(y_test,algo.predict(X_test))*100:.2f}% de prédictions correctes\")"
      ],
      "metadata": {
        "colab": {
          "base_uri": "https://localhost:8080/"
        },
        "id": "c7k6zOU7f87x",
        "outputId": "8cff4a2f-a5a0-4890-a11a-0780cb9af8b6"
      },
      "execution_count": 26,
      "outputs": [
        {
          "output_type": "stream",
          "name": "stdout",
          "text": [
            "recall_score :    97.22% de positifs bien prédits par le modèle\n",
            "accuracy_score :  96.49% de prédictions correctes\n"
          ]
        }
      ]
    },
    {
      "cell_type": "markdown",
      "source": [
        "le recall donne le pourcentage de positif bien prédits par le modèle. Plus il est élevé, moins le modèle ne rate de cas positifs (tumeur cancéreuse). C'est donc un l'indicateur le plus important à prendre en compte dans le cadre du cancer, ou minimiser les faux négatifs est vital.\n",
        "\n"
      ],
      "metadata": {
        "id": "2jdhhUcKsodd"
      }
    },
    {
      "cell_type": "markdown",
      "source": [
        "l'accuracy donne le pourcentage de prédictions correctes (positif comme négatif). Il est donc aussi important à prendre en compte, en association avec le recall, pour avoir une vue globale."
      ],
      "metadata": {
        "id": "xyhxJNkAvEV2"
      }
    },
    {
      "cell_type": "markdown",
      "source": [
        "\n",
        "\n",
        "---\n",
        "\n",
        "# REGRESSION, DATASET : DIABETE\n",
        "\n",
        "\n",
        "---\n",
        "\n"
      ],
      "metadata": {
        "id": "PMhnWuqdeB1J"
      }
    },
    {
      "cell_type": "markdown",
      "source": [
        "*CHARGEMENT DES DONNÉES PUIS CONVERSION EN PD.DATAFRAME*"
      ],
      "metadata": {
        "id": "bA4ja_vNzi0l"
      }
    },
    {
      "cell_type": "code",
      "source": [
        "dataset = datasets.load_diabetes()\n",
        "X = pd.DataFrame(data = dataset.data, columns = dataset.feature_names)\n",
        "y = dataset.target"
      ],
      "metadata": {
        "id": "3MNwz-Zhvvpc"
      },
      "execution_count": 27,
      "outputs": []
    },
    {
      "cell_type": "code",
      "source": [
        "from sklearn.ensemble import RandomForestRegressor\n",
        "algo = RandomForestRegressor()\n",
        "X_train,X_test,y_train,y_test = train_test_split(X,y, test_size = 0.2)\n",
        "algo.fit(X_train,y_train)\n",
        "print(f\"une première évaluation du modèle, précision de {algo.score(X_test,y_test)*100:.2f}%.\\nIl décrit {algo.score(X_test,y_test)*100:.2f}% des variations du taux de diabètes\")"
      ],
      "metadata": {
        "colab": {
          "base_uri": "https://localhost:8080/"
        },
        "id": "8yEvccC11jU7",
        "outputId": "e972741c-f0ee-4c01-d199-df7eba647420"
      },
      "execution_count": 28,
      "outputs": [
        {
          "output_type": "stream",
          "name": "stdout",
          "text": [
            "une première évaluation du modèle, précision de 44.50%.\n",
            "Il décrit 44.50% des variations du taux de diabètes\n"
          ]
        }
      ]
    },
    {
      "cell_type": "code",
      "source": [
        "scores = cross_val_score(RandomForestRegressor(),X_train,y_train, cv = 5)\n",
        "print(f\"précision de {scores.mean()*100:.2f}% avec marge d'erreur de {scores.std()*100:.2f}%\\n\")\n",
        "plt.xlabel(\"numéro de split\")\n",
        "plt.ylabel(\"Précision\")\n",
        "plt.suptitle(\"Variations de précision selon différentes Partitions\")\n",
        "plt.bar([0,1,2,3,4],scores)"
      ],
      "metadata": {
        "id": "u9j5yYcPjKdk",
        "colab": {
          "base_uri": "https://localhost:8080/",
          "height": 357
        },
        "outputId": "30e2b889-fb50-41a3-8f2f-e83abd19d822"
      },
      "execution_count": 29,
      "outputs": [
        {
          "output_type": "stream",
          "name": "stdout",
          "text": [
            "précision de 41.02% avec marge d'erreur de 8.08%\n",
            "\n"
          ]
        },
        {
          "output_type": "execute_result",
          "data": {
            "text/plain": [
              "<BarContainer object of 5 artists>"
            ]
          },
          "metadata": {},
          "execution_count": 29
        },
        {
          "output_type": "display_data",
          "data": {
            "text/plain": [
              "<Figure size 432x288 with 1 Axes>"
            ],
            "image/png": "[encoded data removed]"
          },
          "metadata": {
            "needs_background": "light"
          }
        }
      ]
    },
    {
      "cell_type": "markdown",
      "source": [
        "En fonction des partitions les taux de précisions peuvent varier assez fortement, mais aucun n'est précis. La marge d'erreur est forte."
      ],
      "metadata": {
        "id": "EmZ9nJwMxTMJ"
      }
    },
    {
      "cell_type": "code",
      "source": [
        "plt.title('Performance du modèle')\n",
        "plt.plot(list(algo.predict(X_test))[:20])\n",
        "plt.plot(list(y_test)[:20])"
      ],
      "metadata": {
        "id": "YfKM5xOogGFQ",
        "colab": {
          "base_uri": "https://localhost:8080/",
          "height": 296
        },
        "outputId": "7c3f5b60-fb72-4171-dec1-736456ec34ce"
      },
      "execution_count": 30,
      "outputs": [
        {
          "output_type": "execute_result",
          "data": {
            "text/plain": [
              "[<matplotlib.lines.Line2D at 0x7fc71e755d90>]"
            ]
          },
          "metadata": {},
          "execution_count": 30
        },
        {
          "output_type": "display_data",
          "data": {
            "text/plain": [
              "<Figure size 432x288 with 1 Axes>"
            ],
            "image/png": "[encoded data removed]"
          },
          "metadata": {
            "needs_background": "light"
          }
        }
      ]
    },
    {
      "cell_type": "markdown",
      "source": [
        "on voit de grosses différences entre les valeurs réelles et les prédictions. Le modèle n'est pas précis."
      ],
      "metadata": {
        "id": "qN9Zpoi-g4fA"
      }
    },
    {
      "cell_type": "code",
      "source": [
        "from sklearn.metrics import mean_squared_error\n",
        "from sklearn.metrics import mean_absolute_error\n",
        "from sklearn.metrics import r2_score \n",
        "import math\n",
        "print(\"MAE = \",mean_absolute_error(y_test,algo.predict(X_test)))\n",
        "print(\"MSE = \",mean_squared_error(y_test,algo.predict(X_test)))\n",
        "print(\"RMSE = \",math.sqrt(mean_squared_error(y_test,algo.predict(X_test))))\n",
        "print(\"r2_score = \",r2_score(y_test,algo.predict(X_test)))"
      ],
      "metadata": {
        "id": "5Bp2hIr8kAD9",
        "colab": {
          "base_uri": "https://localhost:8080/"
        },
        "outputId": "08534667-4f76-4ade-cd97-10a631bc0f65"
      },
      "execution_count": 31,
      "outputs": [
        {
          "output_type": "stream",
          "name": "stdout",
          "text": [
            "MAE =  45.82247191011236\n",
            "MSE =  3052.709004494382\n",
            "RMSE =  55.25132581662074\n",
            "r2_score =  0.4450428119452553\n"
          ]
        }
      ]
    },
    {
      "cell_type": "markdown",
      "source": [
        "La MSE penalise beaucoup + les grandes erreurs que la MAE. Dans notre cas on gardera donc la MSE car une grande erreur de prédiction peut etre grave dans le cas du diabete.\n",
        "On peut voir que la valeur de MSE est très grande et r2_score est bas --> le modèle n'est pas précis.\n"
      ],
      "metadata": {
        "id": "5_UGxAsZpjil"
      }
    },
    {
      "cell_type": "markdown",
      "source": [
        "HISTOGRAMMES DES ERREURS"
      ],
      "metadata": {
        "id": "5A0UCsFVuldD"
      }
    },
    {
      "cell_type": "code",
      "source": [
        "y_pred = algo.predict(X_train)\n",
        "plt.xlabel(\"valeur d'erreur = différence avec la valeur réelle\")\n",
        "plt.ylabel(\"nombre de prédictions\")\n",
        "plt.hist(np.abs(y_train - y_pred), bins = 50)"
      ],
      "metadata": {
        "id": "xqdmJhyyubMG",
        "colab": {
          "base_uri": "https://localhost:8080/",
          "height": 541
        },
        "outputId": "110e0ad8-b63a-4fd8-8716-2846c904398b"
      },
      "execution_count": 32,
      "outputs": [
        {
          "output_type": "execute_result",
          "data": {
            "text/plain": [
              "(array([23.,  8., 10., 10., 16., 23., 18.,  7., 13., 11., 15., 16., 10.,\n",
              "        12.,  4., 17., 10.,  8.,  9., 18.,  9.,  9.,  8.,  9.,  6.,  8.,\n",
              "         3.,  3.,  1.,  4.,  3.,  5.,  3.,  2.,  2.,  2.,  0.,  1.,  4.,\n",
              "         1.,  1.,  2.,  0.,  3.,  0.,  0.,  1.,  1.,  2.,  2.]),\n",
              " array([5.00000e-02, 1.23520e+00, 2.42040e+00, 3.60560e+00, 4.79080e+00,\n",
              "        5.97600e+00, 7.16120e+00, 8.34640e+00, 9.53160e+00, 1.07168e+01,\n",
              "        1.19020e+01, 1.30872e+01, 1.42724e+01, 1.54576e+01, 1.66428e+01,\n",
              "        1.78280e+01, 1.90132e+01, 2.01984e+01, 2.13836e+01, 2.25688e+01,\n",
              "        2.37540e+01, 2.49392e+01, 2.61244e+01, 2.73096e+01, 2.84948e+01,\n",
              "        2.96800e+01, 3.08652e+01, 3.20504e+01, 3.32356e+01, 3.44208e+01,\n",
              "        3.56060e+01, 3.67912e+01, 3.79764e+01, 3.91616e+01, 4.03468e+01,\n",
              "        4.15320e+01, 4.27172e+01, 4.39024e+01, 4.50876e+01, 4.62728e+01,\n",
              "        4.74580e+01, 4.86432e+01, 4.98284e+01, 5.10136e+01, 5.21988e+01,\n",
              "        5.33840e+01, 5.45692e+01, 5.57544e+01, 5.69396e+01, 5.81248e+01,\n",
              "        5.93100e+01]),\n",
              " <a list of 50 Patch objects>)"
            ]
          },
          "metadata": {},
          "execution_count": 32
        },
        {
          "output_type": "display_data",
          "data": {
            "text/plain": [
              "<Figure size 432x288 with 1 Axes>"
            ],
            "image/png": "[encoded data removed]"
          },
          "metadata": {
            "needs_background": "light"
          }
        }
      ]
    },
    {
      "cell_type": "markdown",
      "source": [
        "On voit que beaucoup de prédictions font des erreurs assez grandes. Le modèle fais beaucoup d'erreurs importantes."
      ],
      "metadata": {
        "id": "pH-jgMaexuWh"
      }
    }
  ]
}